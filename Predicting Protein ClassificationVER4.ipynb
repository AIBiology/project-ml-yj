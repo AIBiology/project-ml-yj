{
 "cells": [
  {
   "cell_type": "markdown",
   "id": "3b7fa82c-4355-4b3e-a6a5-7a760b698d17",
   "metadata": {},
   "source": [
    "# Introduction"
   ]
  },
  {
   "cell_type": "markdown",
   "id": "aa285ce1-44c7-4e1e-8a82-8226f425fb41",
   "metadata": {},
   "source": [
    "## Background"
   ]
  },
  {
   "cell_type": "markdown",
   "id": "4af92f3d-0154-490f-9f76-1ca1632c6259",
   "metadata": {},
   "source": [
    "The dataset comprises a diverse range of macromolecules with biological significance, wherein the majority of records pertain to proteins. Proteins play a crucial role in biological pathways and cycles by directly interacting with other biomolecules. Typically, proteins perform specific functions that are defined by their family type. For instance, a Hydrolase group protein catalyzes hydrolysis, which helps in breaking protein or other molecular chains. Similarly, a transport protein facilitates the movement of various molecules, such as sucrose, fructose, or water, in and out of the cell. It is important to note that DNA, as the precursor to RNA, plays a crucial role in the translation of proteins."
   ]
  },
  {
   "cell_type": "markdown",
   "id": "2d994282-6b59-4da2-9378-d8665aaeaa44",
   "metadata": {},
   "source": [
    "## Goals"
   ]
  },
  {
   "cell_type": "markdown",
   "id": "2b053309-a074-47e7-9413-4414d633b8d2",
   "metadata": {},
   "source": [
    "The existence of diverse protein family types raises the question of whether it is feasible to identify a protein's family type based on its sequence. While search engines like BLAST can perform this task, exploring the efficacy of a machine learning approach in classifying a protein's family type based on its sequence would be intriguing."
   ]
  },
  {
   "cell_type": "code",
   "execution_count": 1,
   "id": "4121d12a-b0e0-4b2e-911c-d65e58b17345",
   "metadata": {},
   "outputs": [
    {
     "name": "stdout",
     "output_type": "stream",
     "text": [
      "Datasets have been loaded...\n"
     ]
    }
   ],
   "source": [
    "# 1). ----- Import Libraries and Datasets ------\n",
    "\n",
    "import pandas as pd\n",
    "import numpy as np\n",
    "from matplotlib import pyplot as plt\n",
    "import seaborn as sns\n",
    "from sklearn.feature_extraction.text import CountVectorizer\n",
    "from sklearn.model_selection import train_test_split\n",
    "from sklearn.metrics import accuracy_score, confusion_matrix, classification_report\n",
    "\n",
    "# original data from PDB\n",
    "# Import Datasets\n",
    "df_seq = pd.read_csv('./pdb_data_seq.csv')\n",
    "df_char = pd.read_csv('./pdb_data_no_dups.csv')\n",
    "\n",
    "print('Datasets have been loaded...')"
   ]
  },
  {
   "cell_type": "code",
   "execution_count": 2,
   "id": "6ccb8c36-89d1-4ea7-b13f-4bf8567c3003",
   "metadata": {},
   "outputs": [
    {
     "data": {
      "text/html": [
       "<div>\n",
       "<style scoped>\n",
       "    .dataframe tbody tr th:only-of-type {\n",
       "        vertical-align: middle;\n",
       "    }\n",
       "\n",
       "    .dataframe tbody tr th {\n",
       "        vertical-align: top;\n",
       "    }\n",
       "\n",
       "    .dataframe thead th {\n",
       "        text-align: right;\n",
       "    }\n",
       "</style>\n",
       "<table border=\"1\" class=\"dataframe\">\n",
       "  <thead>\n",
       "    <tr style=\"text-align: right;\">\n",
       "      <th></th>\n",
       "      <th>structureId</th>\n",
       "      <th>sequence</th>\n",
       "    </tr>\n",
       "  </thead>\n",
       "  <tbody>\n",
       "    <tr>\n",
       "      <th>4</th>\n",
       "      <td>101M</td>\n",
       "      <td>MVLSEGEWQLVLHVWAKVEADVAGHGQDILIRLFKSHPETLEKFDR...</td>\n",
       "    </tr>\n",
       "    <tr>\n",
       "      <th>7</th>\n",
       "      <td>102L</td>\n",
       "      <td>MNIFEMLRIDEGLRLKIYKDTEGYYTIGIGHLLTKSPSLNAAAKSE...</td>\n",
       "    </tr>\n",
       "    <tr>\n",
       "      <th>8</th>\n",
       "      <td>102M</td>\n",
       "      <td>MVLSEGEWQLVLHVWAKVEADVAGHGQDILIRLFKSHPETLEKFDR...</td>\n",
       "    </tr>\n",
       "    <tr>\n",
       "      <th>11</th>\n",
       "      <td>103L</td>\n",
       "      <td>MNIFEMLRIDEGLRLKIYKDTEGYYTIGIGHLLTKSPSLNSLDAAK...</td>\n",
       "    </tr>\n",
       "    <tr>\n",
       "      <th>12</th>\n",
       "      <td>103M</td>\n",
       "      <td>MVLSEGEWQLVLHVWAKVEADVAGHGQDILIRLFKSHPETLEKFDR...</td>\n",
       "    </tr>\n",
       "  </tbody>\n",
       "</table>\n",
       "</div>"
      ],
      "text/plain": [
       "   structureId                                           sequence\n",
       "4         101M  MVLSEGEWQLVLHVWAKVEADVAGHGQDILIRLFKSHPETLEKFDR...\n",
       "7         102L  MNIFEMLRIDEGLRLKIYKDTEGYYTIGIGHLLTKSPSLNAAAKSE...\n",
       "8         102M  MVLSEGEWQLVLHVWAKVEADVAGHGQDILIRLFKSHPETLEKFDR...\n",
       "11        103L  MNIFEMLRIDEGLRLKIYKDTEGYYTIGIGHLLTKSPSLNSLDAAK...\n",
       "12        103M  MVLSEGEWQLVLHVWAKVEADVAGHGQDILIRLFKSHPETLEKFDR..."
      ]
     },
     "execution_count": 2,
     "metadata": {},
     "output_type": "execute_result"
    }
   ],
   "source": [
    "# 2). ----- Filter and Process Dataset ------\n",
    "\n",
    "# Filter for only proteins\n",
    "protein_char = df_char[df_char.macromoleculeType == 'Protein']\n",
    "protein_seq = df_seq[df_seq.macromoleculeType == 'Protein']\n",
    "\n",
    "# Select only necessary variables to join\n",
    "protein_char = protein_char[['structureId','classification']]\n",
    "protein_seq = protein_seq[['structureId','sequence']]\n",
    "\n",
    "protein_seq.head()"
   ]
  },
  {
   "cell_type": "code",
   "execution_count": 3,
   "id": "9907b7ce-870b-4d64-a833-038e90f3acab",
   "metadata": {},
   "outputs": [
    {
     "data": {
      "text/html": [
       "<div>\n",
       "<style scoped>\n",
       "    .dataframe tbody tr th:only-of-type {\n",
       "        vertical-align: middle;\n",
       "    }\n",
       "\n",
       "    .dataframe tbody tr th {\n",
       "        vertical-align: top;\n",
       "    }\n",
       "\n",
       "    .dataframe thead th {\n",
       "        text-align: right;\n",
       "    }\n",
       "</style>\n",
       "<table border=\"1\" class=\"dataframe\">\n",
       "  <thead>\n",
       "    <tr style=\"text-align: right;\">\n",
       "      <th></th>\n",
       "      <th>structureId</th>\n",
       "      <th>classification</th>\n",
       "    </tr>\n",
       "  </thead>\n",
       "  <tbody>\n",
       "    <tr>\n",
       "      <th>2</th>\n",
       "      <td>101M</td>\n",
       "      <td>OXYGEN TRANSPORT</td>\n",
       "    </tr>\n",
       "    <tr>\n",
       "      <th>4</th>\n",
       "      <td>102L</td>\n",
       "      <td>HYDROLASE(O-GLYCOSYL)</td>\n",
       "    </tr>\n",
       "    <tr>\n",
       "      <th>5</th>\n",
       "      <td>102M</td>\n",
       "      <td>OXYGEN TRANSPORT</td>\n",
       "    </tr>\n",
       "    <tr>\n",
       "      <th>7</th>\n",
       "      <td>103L</td>\n",
       "      <td>HYDROLASE(O-GLYCOSYL)</td>\n",
       "    </tr>\n",
       "    <tr>\n",
       "      <th>8</th>\n",
       "      <td>103M</td>\n",
       "      <td>OXYGEN TRANSPORT</td>\n",
       "    </tr>\n",
       "  </tbody>\n",
       "</table>\n",
       "</div>"
      ],
      "text/plain": [
       "  structureId         classification\n",
       "2        101M       OXYGEN TRANSPORT\n",
       "4        102L  HYDROLASE(O-GLYCOSYL)\n",
       "5        102M       OXYGEN TRANSPORT\n",
       "7        103L  HYDROLASE(O-GLYCOSYL)\n",
       "8        103M       OXYGEN TRANSPORT"
      ]
     },
     "execution_count": 3,
     "metadata": {},
     "output_type": "execute_result"
    }
   ],
   "source": [
    "protein_char.head()"
   ]
  },
  {
   "cell_type": "code",
   "execution_count": 4,
   "id": "72f2209a-e589-4307-91ed-776c41a8ed33",
   "metadata": {},
   "outputs": [
    {
     "data": {
      "text/html": [
       "<div>\n",
       "<style scoped>\n",
       "    .dataframe tbody tr th:only-of-type {\n",
       "        vertical-align: middle;\n",
       "    }\n",
       "\n",
       "    .dataframe tbody tr th {\n",
       "        vertical-align: top;\n",
       "    }\n",
       "\n",
       "    .dataframe thead th {\n",
       "        text-align: right;\n",
       "    }\n",
       "</style>\n",
       "<table border=\"1\" class=\"dataframe\">\n",
       "  <thead>\n",
       "    <tr style=\"text-align: right;\">\n",
       "      <th></th>\n",
       "      <th>classification</th>\n",
       "      <th>sequence</th>\n",
       "    </tr>\n",
       "    <tr>\n",
       "      <th>structureId</th>\n",
       "      <th></th>\n",
       "      <th></th>\n",
       "    </tr>\n",
       "  </thead>\n",
       "  <tbody>\n",
       "    <tr>\n",
       "      <th>101M</th>\n",
       "      <td>OXYGEN TRANSPORT</td>\n",
       "      <td>MVLSEGEWQLVLHVWAKVEADVAGHGQDILIRLFKSHPETLEKFDR...</td>\n",
       "    </tr>\n",
       "    <tr>\n",
       "      <th>102L</th>\n",
       "      <td>HYDROLASE(O-GLYCOSYL)</td>\n",
       "      <td>MNIFEMLRIDEGLRLKIYKDTEGYYTIGIGHLLTKSPSLNAAAKSE...</td>\n",
       "    </tr>\n",
       "    <tr>\n",
       "      <th>102M</th>\n",
       "      <td>OXYGEN TRANSPORT</td>\n",
       "      <td>MVLSEGEWQLVLHVWAKVEADVAGHGQDILIRLFKSHPETLEKFDR...</td>\n",
       "    </tr>\n",
       "    <tr>\n",
       "      <th>103L</th>\n",
       "      <td>HYDROLASE(O-GLYCOSYL)</td>\n",
       "      <td>MNIFEMLRIDEGLRLKIYKDTEGYYTIGIGHLLTKSPSLNSLDAAK...</td>\n",
       "    </tr>\n",
       "    <tr>\n",
       "      <th>103M</th>\n",
       "      <td>OXYGEN TRANSPORT</td>\n",
       "      <td>MVLSEGEWQLVLHVWAKVEADVAGHGQDILIRLFKSHPETLEKFDR...</td>\n",
       "    </tr>\n",
       "  </tbody>\n",
       "</table>\n",
       "</div>"
      ],
      "text/plain": [
       "                    classification  \\\n",
       "structureId                          \n",
       "101M              OXYGEN TRANSPORT   \n",
       "102L         HYDROLASE(O-GLYCOSYL)   \n",
       "102M              OXYGEN TRANSPORT   \n",
       "103L         HYDROLASE(O-GLYCOSYL)   \n",
       "103M              OXYGEN TRANSPORT   \n",
       "\n",
       "                                                      sequence  \n",
       "structureId                                                     \n",
       "101M         MVLSEGEWQLVLHVWAKVEADVAGHGQDILIRLFKSHPETLEKFDR...  \n",
       "102L         MNIFEMLRIDEGLRLKIYKDTEGYYTIGIGHLLTKSPSLNAAAKSE...  \n",
       "102M         MVLSEGEWQLVLHVWAKVEADVAGHGQDILIRLFKSHPETLEKFDR...  \n",
       "103L         MNIFEMLRIDEGLRLKIYKDTEGYYTIGIGHLLTKSPSLNSLDAAK...  \n",
       "103M         MVLSEGEWQLVLHVWAKVEADVAGHGQDILIRLFKSHPETLEKFDR...  "
      ]
     },
     "execution_count": 4,
     "metadata": {},
     "output_type": "execute_result"
    }
   ],
   "source": [
    "# Join two datasets on structureId\n",
    "model_f = protein_char.set_index('structureId').join(protein_seq.set_index('structureId'))\n",
    "model_f.head()"
   ]
  },
  {
   "cell_type": "code",
   "execution_count": 5,
   "id": "0be8bf6a-58df-4f83-baa8-27a6fcd77ec6",
   "metadata": {},
   "outputs": [
    {
     "name": "stdout",
     "output_type": "stream",
     "text": [
      "346325 is the number of rows in the joined dataset\n"
     ]
    }
   ],
   "source": [
    "print('%d is the number of rows in the joined dataset' %model_f.shape[0])"
   ]
  },
  {
   "cell_type": "code",
   "execution_count": 6,
   "id": "f5140b4b-bf85-41f8-b5bb-7c3a6ced8132",
   "metadata": {},
   "outputs": [
    {
     "data": {
      "text/plain": [
       "classification    1\n",
       "sequence          3\n",
       "dtype: int64"
      ]
     },
     "execution_count": 6,
     "metadata": {},
     "output_type": "execute_result"
    }
   ],
   "source": [
    "# Check NA counts\n",
    "model_f.isnull().sum()"
   ]
  },
  {
   "cell_type": "code",
   "execution_count": 7,
   "id": "cbc58988-cf71-47ac-8501-7cc9c162c3cd",
   "metadata": {},
   "outputs": [
    {
     "name": "stdout",
     "output_type": "stream",
     "text": [
      "346321 is the number of proteins that have a classification and sequence\n"
     ]
    }
   ],
   "source": [
    "# Drop rows with missing values\n",
    "model_f = model_f.dropna()\n",
    "print('%d is the number of proteins that have a classification and sequence' %model_f.shape[0])"
   ]
  },
  {
   "cell_type": "code",
   "execution_count": 8,
   "id": "302d8310-82d6-4f23-86c8-5db5adc569d7",
   "metadata": {},
   "outputs": [
    {
     "name": "stdout",
     "output_type": "stream",
     "text": [
      "HYDROLASE                            46336\n",
      "TRANSFERASE                          36424\n",
      "OXIDOREDUCTASE                       34321\n",
      "IMMUNE SYSTEM                        15615\n",
      "LYASE                                11682\n",
      "                                     ...  \n",
      "STRUCTURAL PROTEIN, CELL CYCLE           1\n",
      "KINASE (GLYCOGEN METABOLISM)             1\n",
      "SURFACE GLYCOPROTEIN                     1\n",
      "IMMUNE SYSTEM,HYDROLASE INHIBITOR        1\n",
      "antimicrobial                            1\n",
      "Name: classification, Length: 4468, dtype: int64\n"
     ]
    },
    {
     "name": "stderr",
     "output_type": "stream",
     "text": [
      "/apps/python/3.10/lib/python3.10/site-packages/seaborn/distributions.py:2619: FutureWarning: `distplot` is a deprecated function and will be removed in a future version. Please adapt your code to use either `displot` (a figure-level function with similar flexibility) or `kdeplot` (an axes-level function for kernel density plots).\n",
      "  warnings.warn(msg, FutureWarning)\n"
     ]
    },
    {
     "data": {
      "image/png": "[encoded data removed]",
      "text/plain": [
       "<Figure size 432x288 with 1 Axes>"
      ]
     },
     "metadata": {
      "needs_background": "light"
     },
     "output_type": "display_data"
    }
   ],
   "source": [
    "# Look at classification type counts\n",
    "counts = model_f.classification.value_counts()\n",
    "print(counts)\n",
    "\n",
    "#plot counts\n",
    "plt.figure()\n",
    "sns.distplot(counts, hist = False, color = 'purple')\n",
    "plt.title('Count Distribution for Family Types')\n",
    "plt.ylabel('% of records')\n",
    "plt.show()"
   ]
  },
  {
   "cell_type": "code",
   "execution_count": 9,
   "id": "5b73373a-a885-49d2-9293-fed0d33bd748",
   "metadata": {},
   "outputs": [
    {
     "name": "stdout",
     "output_type": "stream",
     "text": [
      "['HYDROLASE' 'TRANSFERASE' 'OXIDOREDUCTASE' 'IMMUNE SYSTEM' 'LYASE'\n",
      " 'HYDROLASE/HYDROLASE INHIBITOR' 'TRANSCRIPTION' 'VIRAL PROTEIN'\n",
      " 'TRANSPORT PROTEIN' 'VIRUS' 'SIGNALING PROTEIN' 'ISOMERASE' 'LIGASE'\n",
      " 'MEMBRANE PROTEIN' 'PROTEIN BINDING' 'STRUCTURAL PROTEIN' 'CHAPERONE'\n",
      " 'STRUCTURAL GENOMICS, UNKNOWN FUNCTION' 'SUGAR BINDING PROTEIN'\n",
      " 'DNA BINDING PROTEIN' 'PHOTOSYNTHESIS' 'ELECTRON TRANSPORT'\n",
      " 'TRANSFERASE/TRANSFERASE INHIBITOR' 'METAL BINDING PROTEIN'\n",
      " 'CELL ADHESION' 'UNKNOWN FUNCTION' 'PROTEIN TRANSPORT' 'TOXIN'\n",
      " 'CELL CYCLE' 'RNA BINDING PROTEIN' 'DE NOVO PROTEIN' 'HORMONE'\n",
      " 'GENE REGULATION' 'OXIDOREDUCTASE/OXIDOREDUCTASE INHIBITOR' 'APOPTOSIS'\n",
      " 'MOTOR PROTEIN' 'PROTEIN FIBRIL' 'METAL TRANSPORT'\n",
      " 'VIRAL PROTEIN/IMMUNE SYSTEM' 'CONTRACTILE PROTEIN' 'FLUORESCENT PROTEIN'\n",
      " 'TRANSLATION' 'BIOSYNTHETIC PROTEIN']\n",
      "278866 is the number of records in the final filtered dataset\n"
     ]
    }
   ],
   "source": [
    "# Get classification types where counts are over 1000\n",
    "types = np.asarray(counts[(counts > 1000)].index)\n",
    "\n",
    "# Filter dataset's records for classification types > 1000\n",
    "data = model_f[model_f.classification.isin(types)]\n",
    "\n",
    "print(types)\n",
    "print('%d is the number of records in the final filtered dataset' %data.shape[0])"
   ]
  },
  {
   "cell_type": "code",
   "execution_count": 10,
   "id": "973e7d5a-8b97-4578-8be7-f8d472dd63ba",
   "metadata": {},
   "outputs": [
    {
     "name": "stdout",
     "output_type": "stream",
     "text": [
      "['zhhh', 'ziar', 'zigi', 'ziwz', 'zkal', 'zkky', 'zknt', 'zkyh', 'zlik', 'zlzk', 'zpvm', 'zrgd', 'zrvi', 'ztvl', 'ztzk', 'zvbd', 'zvib', 'zvka', 'zwdl', 'zzvb']\n"
     ]
    },
    {
     "name": "stderr",
     "output_type": "stream",
     "text": [
      "/apps/python/3.10/lib/python3.10/site-packages/sklearn/utils/deprecation.py:87: FutureWarning: Function get_feature_names is deprecated; get_feature_names is deprecated in 1.0 and will be removed in 1.2. Please use get_feature_names_out instead.\n",
      "  warnings.warn(msg, category=FutureWarning)\n"
     ]
    }
   ],
   "source": [
    "# 3). ----- Train Test Split -----\n",
    "\n",
    "# Split Data\n",
    "X_train, X_test,y_train,y_test = train_test_split(data['sequence'], data['classification'], test_size = 0.2, random_state = 1)\n",
    "\n",
    "# Create a Count Vectorizer to gather the unique elements in sequence\n",
    "vect = CountVectorizer(analyzer = 'char_wb', ngram_range = (4,4))\n",
    "\n",
    "# Fit and Transform CountVectorizer\n",
    "vect.fit(X_train)\n",
    "X_train_df = vect.transform(X_train)\n",
    "X_test_df = vect.transform(X_test)\n",
    "\n",
    "#Print a few of the features\n",
    "print(vect.get_feature_names()[-20:])"
   ]
  },
  {
   "cell_type": "code",
   "execution_count": 11,
   "id": "d48844d4-58e0-439b-98db-74e00cbfcfdb",
   "metadata": {},
   "outputs": [
    {
     "name": "stdout",
     "output_type": "stream",
     "text": [
      "0.7638505396779861\n"
     ]
    }
   ],
   "source": [
    "# 4). ------ Machine Learning Models ------\n",
    "\n",
    "# Make a prediction dictionary to store accuracys\n",
    "prediction = dict()\n",
    "\n",
    "# Naive Bayes Model\n",
    "from sklearn.naive_bayes import MultinomialNB\n",
    "model = MultinomialNB()\n",
    "model.fit(X_train_df, y_train)\n",
    "NB_pred = model.predict(X_test_df)\n",
    "prediction[\"MultinomialNB\"] = accuracy_score(NB_pred, y_test)\n",
    "print( prediction['MultinomialNB'])"
   ]
  },
  {
   "cell_type": "code",
   "execution_count": 12,
   "id": "db6eee05-5f28-4c04-b9a6-2296f63edafd",
   "metadata": {},
   "outputs": [
    {
     "data": {
      "text/plain": [
       "<AxesSubplot:>"
      ]
     },
     "execution_count": 12,
     "metadata": {},
     "output_type": "execute_result"
    },
    {
     "data": {
      "image/png": "[encoded data removed]",
      "text/plain": [
       "<Figure size 936x576 with 2 Axes>"
      ]
     },
     "metadata": {
      "needs_background": "light"
     },
     "output_type": "display_data"
    }
   ],
   "source": [
    "# 5). ----- Plot Confusion Matrix for NB -----\n",
    "\n",
    "# Plot confusion matrix\n",
    "conf_mat = confusion_matrix(y_test, NB_pred, labels = types)\n",
    "\n",
    "#Normalize confusion_matrix\n",
    "conf_mat = conf_mat.astype('float')/ conf_mat.sum(axis=1)[:, np.newaxis]\n",
    "\n",
    "# Plot Heat Map\n",
    "fig , ax = plt.subplots()\n",
    "fig.set_size_inches(13, 8)\n",
    "sns.heatmap(conf_mat)"
   ]
  },
  {
   "cell_type": "code",
   "execution_count": 13,
   "id": "880931e8-4e9d-4cb5-bb67-8362fe56fbb6",
   "metadata": {},
   "outputs": [
    {
     "name": "stdout",
     "output_type": "stream",
     "text": [
      "IMMUNE SYSTEM\n",
      "VIRAL PROTEIN/IMMUNE SYSTEM\n"
     ]
    }
   ],
   "source": [
    "print(types[3])\n",
    "print(types[38])"
   ]
  },
  {
   "cell_type": "code",
   "execution_count": 14,
   "id": "8173473b-682b-47d5-8b25-0e302d699626",
   "metadata": {},
   "outputs": [
    {
     "name": "stdout",
     "output_type": "stream",
     "text": [
      "                                         precision    recall  f1-score   support\n",
      "\n",
      "                              HYDROLASE       0.47      0.74      0.57       250\n",
      "                            TRANSFERASE       0.60      0.82      0.70       211\n",
      "                         OXIDOREDUCTASE       0.75      0.77      0.76       589\n",
      "                          IMMUNE SYSTEM       0.66      0.72      0.69       509\n",
      "                                  LYASE       0.91      0.76      0.83       859\n",
      "          HYDROLASE/HYDROLASE INHIBITOR       0.66      0.88      0.76       224\n",
      "                          TRANSCRIPTION       0.58      0.83      0.68       326\n",
      "                          VIRAL PROTEIN       0.71      0.78      0.75       622\n",
      "                      TRANSPORT PROTEIN       0.60      0.74      0.66       601\n",
      "                                  VIRUS       0.91      0.97      0.94       209\n",
      "                      SIGNALING PROTEIN       0.71      0.73      0.72       309\n",
      "                              ISOMERASE       0.49      0.96      0.65       293\n",
      "                                 LIGASE       0.77      0.78      0.77      9274\n",
      "                       MEMBRANE PROTEIN       0.67      0.76      0.71      2228\n",
      "                        PROTEIN BINDING       0.87      0.76      0.82      3204\n",
      "                     STRUCTURAL PROTEIN       0.94      0.86      0.90      1312\n",
      "                              CHAPERONE       0.87      0.80      0.84       963\n",
      "  STRUCTURAL GENOMICS, UNKNOWN FUNCTION       0.94      0.87      0.90      2324\n",
      "                  SUGAR BINDING PROTEIN       0.68      0.66      0.67       991\n",
      "                    DNA BINDING PROTEIN       0.70      0.72      0.71       607\n",
      "                         PHOTOSYNTHESIS       0.62      0.78      0.69       237\n",
      "                     ELECTRON TRANSPORT       0.52      0.59      0.55       251\n",
      "      TRANSFERASE/TRANSFERASE INHIBITOR       0.93      0.79      0.85      6895\n",
      "                  METAL BINDING PROTEIN       0.37      0.91      0.53       308\n",
      "                          CELL ADHESION       0.81      0.87      0.84       686\n",
      "                       UNKNOWN FUNCTION       0.53      0.59      0.56       953\n",
      "                      PROTEIN TRANSPORT       0.81      0.94      0.87       269\n",
      "                                  TOXIN       0.73      0.70      0.71       526\n",
      "                             CELL CYCLE       0.64      0.81      0.72       396\n",
      "                    RNA BINDING PROTEIN       0.76      0.62      0.68      1284\n",
      "                        DE NOVO PROTEIN       0.48      0.76      0.59       710\n",
      "                                HORMONE       0.86      0.57      0.69       884\n",
      "                        GENE REGULATION       0.84      0.89      0.86       690\n",
      "OXIDOREDUCTASE/OXIDOREDUCTASE INHIBITOR       0.79      0.81      0.80       541\n",
      "                              APOPTOSIS       0.81      0.70      0.75      1652\n",
      "                          MOTOR PROTEIN       0.78      0.77      0.77      7262\n",
      "                         PROTEIN FIBRIL       0.35      0.83      0.49       614\n",
      "                        METAL TRANSPORT       0.69      0.79      0.73       209\n",
      "            VIRAL PROTEIN/IMMUNE SYSTEM       0.82      0.59      0.69      1641\n",
      "                    CONTRACTILE PROTEIN       0.73      0.73      0.73       583\n",
      "                    FLUORESCENT PROTEIN       0.86      0.66      0.74      1703\n",
      "                            TRANSLATION       0.41      0.54      0.46       224\n",
      "                   BIOSYNTHETIC PROTEIN       0.87      0.86      0.86      1351\n",
      "\n",
      "                               accuracy                           0.76     55774\n",
      "                              macro avg       0.71      0.77      0.73     55774\n",
      "                           weighted avg       0.79      0.76      0.77     55774\n",
      "\n"
     ]
    }
   ],
   "source": [
    "#Print F1 score metrics\n",
    "print(classification_report(y_test, NB_pred, target_names = types))"
   ]
  },
  {
   "cell_type": "markdown",
   "id": "e4c83609-d249-4e7b-b61c-277bb085c456",
   "metadata": {},
   "source": [
    "# Improvement for the model"
   ]
  },
  {
   "cell_type": "markdown",
   "id": "70a77900-9d0a-40a2-b4c2-0ba8110cb0dd",
   "metadata": {},
   "source": [
    "Utilizing factors such as pH, molecular weight, and other components may be able to yield more information on family group. \n",
    "### In this model, we try to imporve for the model by adding a additional factor (resolution<2.0).  "
   ]
  },
  {
   "cell_type": "code",
   "execution_count": 15,
   "id": "917e214a-806d-48e8-a0ca-263db5e6c849",
   "metadata": {},
   "outputs": [
    {
     "name": "stdout",
     "output_type": "stream",
     "text": [
      "Datasets have been loaded...\n"
     ]
    }
   ],
   "source": [
    "# 1). ----- Import Libraries and Datasets ------\n",
    "\n",
    "import pandas as pd\n",
    "import numpy as np\n",
    "from matplotlib import pyplot as plt\n",
    "import seaborn as sns\n",
    "from sklearn.feature_extraction.text import CountVectorizer\n",
    "from sklearn.model_selection import train_test_split\n",
    "from sklearn.metrics import accuracy_score, confusion_matrix, classification_report\n",
    "\n",
    "\n",
    "# Import Datasets\n",
    "df_seq = pd.read_csv('pdb_data_seq.csv')\n",
    "df_char = pd.read_csv('pdb_data_no_dups.csv')\n",
    "\n",
    "print('Datasets have been loaded...')\n"
   ]
  },
  {
   "cell_type": "code",
   "execution_count": 16,
   "id": "fd99b4fa-5d9c-40bd-99a2-6a367813c698",
   "metadata": {},
   "outputs": [
    {
     "name": "stdout",
     "output_type": "stream",
     "text": [
      "Defaulting to user installation because normal site-packages is not writeable\n",
      "Requirement already satisfied: scikit-learn in /apps/python/3.10/lib/python3.10/site-packages (1.1.2)\n",
      "Requirement already satisfied: joblib>=1.0.0 in /apps/python/3.10/lib/python3.10/site-packages (from scikit-learn) (1.1.0)\n",
      "Requirement already satisfied: scipy>=1.3.2 in /apps/python/3.10/lib/python3.10/site-packages (from scikit-learn) (1.8.1)\n",
      "Requirement already satisfied: threadpoolctl>=2.0.0 in /apps/python/3.10/lib/python3.10/site-packages (from scikit-learn) (3.1.0)\n",
      "Requirement already satisfied: numpy>=1.17.3 in /apps/python/3.10/lib/python3.10/site-packages (from scikit-learn) (1.22.4)\n",
      "\n",
      "\u001b[1m[\u001b[0m\u001b[34;49mnotice\u001b[0m\u001b[1;39;49m]\u001b[0m\u001b[39;49m A new release of pip is available: \u001b[0m\u001b[31;49m23.0\u001b[0m\u001b[39;49m -> \u001b[0m\u001b[32;49m23.1.1\u001b[0m\n",
      "\u001b[1m[\u001b[0m\u001b[34;49mnotice\u001b[0m\u001b[1;39;49m]\u001b[0m\u001b[39;49m To update, run: \u001b[0m\u001b[32;49mpip install --upgrade pip\u001b[0m\n",
      "Note: you may need to restart the kernel to use updated packages.\n"
     ]
    }
   ],
   "source": [
    "pip install scikit-learn"
   ]
  },
  {
   "cell_type": "code",
   "execution_count": 17,
   "id": "7b341321-6207-44b3-9962-a00a6d8c65a5",
   "metadata": {},
   "outputs": [
    {
     "data": {
      "text/html": [
       "<div>\n",
       "<style scoped>\n",
       "    .dataframe tbody tr th:only-of-type {\n",
       "        vertical-align: middle;\n",
       "    }\n",
       "\n",
       "    .dataframe tbody tr th {\n",
       "        vertical-align: top;\n",
       "    }\n",
       "\n",
       "    .dataframe thead th {\n",
       "        text-align: right;\n",
       "    }\n",
       "</style>\n",
       "<table border=\"1\" class=\"dataframe\">\n",
       "  <thead>\n",
       "    <tr style=\"text-align: right;\">\n",
       "      <th></th>\n",
       "      <th>structureId</th>\n",
       "      <th>sequence</th>\n",
       "    </tr>\n",
       "  </thead>\n",
       "  <tbody>\n",
       "    <tr>\n",
       "      <th>4</th>\n",
       "      <td>101M</td>\n",
       "      <td>MVLSEGEWQLVLHVWAKVEADVAGHGQDILIRLFKSHPETLEKFDR...</td>\n",
       "    </tr>\n",
       "    <tr>\n",
       "      <th>7</th>\n",
       "      <td>102L</td>\n",
       "      <td>MNIFEMLRIDEGLRLKIYKDTEGYYTIGIGHLLTKSPSLNAAAKSE...</td>\n",
       "    </tr>\n",
       "    <tr>\n",
       "      <th>8</th>\n",
       "      <td>102M</td>\n",
       "      <td>MVLSEGEWQLVLHVWAKVEADVAGHGQDILIRLFKSHPETLEKFDR...</td>\n",
       "    </tr>\n",
       "    <tr>\n",
       "      <th>11</th>\n",
       "      <td>103L</td>\n",
       "      <td>MNIFEMLRIDEGLRLKIYKDTEGYYTIGIGHLLTKSPSLNSLDAAK...</td>\n",
       "    </tr>\n",
       "    <tr>\n",
       "      <th>12</th>\n",
       "      <td>103M</td>\n",
       "      <td>MVLSEGEWQLVLHVWAKVEADVAGHGQDILIRLFKSHPETLEKFDR...</td>\n",
       "    </tr>\n",
       "  </tbody>\n",
       "</table>\n",
       "</div>"
      ],
      "text/plain": [
       "   structureId                                           sequence\n",
       "4         101M  MVLSEGEWQLVLHVWAKVEADVAGHGQDILIRLFKSHPETLEKFDR...\n",
       "7         102L  MNIFEMLRIDEGLRLKIYKDTEGYYTIGIGHLLTKSPSLNAAAKSE...\n",
       "8         102M  MVLSEGEWQLVLHVWAKVEADVAGHGQDILIRLFKSHPETLEKFDR...\n",
       "11        103L  MNIFEMLRIDEGLRLKIYKDTEGYYTIGIGHLLTKSPSLNSLDAAK...\n",
       "12        103M  MVLSEGEWQLVLHVWAKVEADVAGHGQDILIRLFKSHPETLEKFDR..."
      ]
     },
     "execution_count": 17,
     "metadata": {},
     "output_type": "execute_result"
    }
   ],
   "source": [
    "# 2). ----- Filter and Process Dataset ------\n",
    "\n",
    "# Filter for only proteins\n",
    "protein_char = df_char[df_char.macromoleculeType == 'Protein']\n",
    "protein_seq = df_seq[df_seq.macromoleculeType == 'Protein']\n",
    "# add resolution as parameter \n",
    "protein_char = protein_char[['structureId','classification','resolution']]\n",
    "protein_seq = protein_seq[['structureId','sequence']]\n",
    "protein_seq.head()"
   ]
  },
  {
   "cell_type": "code",
   "execution_count": 18,
   "id": "48435b5e-d993-4d09-976c-719e4508ab23",
   "metadata": {},
   "outputs": [
    {
     "data": {
      "text/html": [
       "<div>\n",
       "<style scoped>\n",
       "    .dataframe tbody tr th:only-of-type {\n",
       "        vertical-align: middle;\n",
       "    }\n",
       "\n",
       "    .dataframe tbody tr th {\n",
       "        vertical-align: top;\n",
       "    }\n",
       "\n",
       "    .dataframe thead th {\n",
       "        text-align: right;\n",
       "    }\n",
       "</style>\n",
       "<table border=\"1\" class=\"dataframe\">\n",
       "  <thead>\n",
       "    <tr style=\"text-align: right;\">\n",
       "      <th></th>\n",
       "      <th>structureId</th>\n",
       "      <th>classification</th>\n",
       "      <th>resolution</th>\n",
       "    </tr>\n",
       "  </thead>\n",
       "  <tbody>\n",
       "    <tr>\n",
       "      <th>2</th>\n",
       "      <td>101M</td>\n",
       "      <td>OXYGEN TRANSPORT</td>\n",
       "      <td>2.07</td>\n",
       "    </tr>\n",
       "    <tr>\n",
       "      <th>4</th>\n",
       "      <td>102L</td>\n",
       "      <td>HYDROLASE(O-GLYCOSYL)</td>\n",
       "      <td>1.74</td>\n",
       "    </tr>\n",
       "    <tr>\n",
       "      <th>5</th>\n",
       "      <td>102M</td>\n",
       "      <td>OXYGEN TRANSPORT</td>\n",
       "      <td>1.84</td>\n",
       "    </tr>\n",
       "    <tr>\n",
       "      <th>7</th>\n",
       "      <td>103L</td>\n",
       "      <td>HYDROLASE(O-GLYCOSYL)</td>\n",
       "      <td>1.90</td>\n",
       "    </tr>\n",
       "    <tr>\n",
       "      <th>8</th>\n",
       "      <td>103M</td>\n",
       "      <td>OXYGEN TRANSPORT</td>\n",
       "      <td>2.07</td>\n",
       "    </tr>\n",
       "  </tbody>\n",
       "</table>\n",
       "</div>"
      ],
      "text/plain": [
       "  structureId         classification  resolution\n",
       "2        101M       OXYGEN TRANSPORT        2.07\n",
       "4        102L  HYDROLASE(O-GLYCOSYL)        1.74\n",
       "5        102M       OXYGEN TRANSPORT        1.84\n",
       "7        103L  HYDROLASE(O-GLYCOSYL)        1.90\n",
       "8        103M       OXYGEN TRANSPORT        2.07"
      ]
     },
     "execution_count": 18,
     "metadata": {},
     "output_type": "execute_result"
    }
   ],
   "source": [
    "protein_char.head()"
   ]
  },
  {
   "cell_type": "code",
   "execution_count": 19,
   "id": "6f85065e-8987-4cef-a822-84d0ce4fd091",
   "metadata": {},
   "outputs": [
    {
     "data": {
      "text/html": [
       "<div>\n",
       "<style scoped>\n",
       "    .dataframe tbody tr th:only-of-type {\n",
       "        vertical-align: middle;\n",
       "    }\n",
       "\n",
       "    .dataframe tbody tr th {\n",
       "        vertical-align: top;\n",
       "    }\n",
       "\n",
       "    .dataframe thead th {\n",
       "        text-align: right;\n",
       "    }\n",
       "</style>\n",
       "<table border=\"1\" class=\"dataframe\">\n",
       "  <thead>\n",
       "    <tr style=\"text-align: right;\">\n",
       "      <th></th>\n",
       "      <th>classification</th>\n",
       "      <th>resolution</th>\n",
       "      <th>sequence</th>\n",
       "    </tr>\n",
       "    <tr>\n",
       "      <th>structureId</th>\n",
       "      <th></th>\n",
       "      <th></th>\n",
       "      <th></th>\n",
       "    </tr>\n",
       "  </thead>\n",
       "  <tbody>\n",
       "    <tr>\n",
       "      <th>101M</th>\n",
       "      <td>OXYGEN TRANSPORT</td>\n",
       "      <td>2.07</td>\n",
       "      <td>MVLSEGEWQLVLHVWAKVEADVAGHGQDILIRLFKSHPETLEKFDR...</td>\n",
       "    </tr>\n",
       "    <tr>\n",
       "      <th>102L</th>\n",
       "      <td>HYDROLASE(O-GLYCOSYL)</td>\n",
       "      <td>1.74</td>\n",
       "      <td>MNIFEMLRIDEGLRLKIYKDTEGYYTIGIGHLLTKSPSLNAAAKSE...</td>\n",
       "    </tr>\n",
       "    <tr>\n",
       "      <th>102M</th>\n",
       "      <td>OXYGEN TRANSPORT</td>\n",
       "      <td>1.84</td>\n",
       "      <td>MVLSEGEWQLVLHVWAKVEADVAGHGQDILIRLFKSHPETLEKFDR...</td>\n",
       "    </tr>\n",
       "    <tr>\n",
       "      <th>103L</th>\n",
       "      <td>HYDROLASE(O-GLYCOSYL)</td>\n",
       "      <td>1.90</td>\n",
       "      <td>MNIFEMLRIDEGLRLKIYKDTEGYYTIGIGHLLTKSPSLNSLDAAK...</td>\n",
       "    </tr>\n",
       "    <tr>\n",
       "      <th>103M</th>\n",
       "      <td>OXYGEN TRANSPORT</td>\n",
       "      <td>2.07</td>\n",
       "      <td>MVLSEGEWQLVLHVWAKVEADVAGHGQDILIRLFKSHPETLEKFDR...</td>\n",
       "    </tr>\n",
       "  </tbody>\n",
       "</table>\n",
       "</div>"
      ],
      "text/plain": [
       "                    classification  resolution  \\\n",
       "structureId                                      \n",
       "101M              OXYGEN TRANSPORT        2.07   \n",
       "102L         HYDROLASE(O-GLYCOSYL)        1.74   \n",
       "102M              OXYGEN TRANSPORT        1.84   \n",
       "103L         HYDROLASE(O-GLYCOSYL)        1.90   \n",
       "103M              OXYGEN TRANSPORT        2.07   \n",
       "\n",
       "                                                      sequence  \n",
       "structureId                                                     \n",
       "101M         MVLSEGEWQLVLHVWAKVEADVAGHGQDILIRLFKSHPETLEKFDR...  \n",
       "102L         MNIFEMLRIDEGLRLKIYKDTEGYYTIGIGHLLTKSPSLNAAAKSE...  \n",
       "102M         MVLSEGEWQLVLHVWAKVEADVAGHGQDILIRLFKSHPETLEKFDR...  \n",
       "103L         MNIFEMLRIDEGLRLKIYKDTEGYYTIGIGHLLTKSPSLNSLDAAK...  \n",
       "103M         MVLSEGEWQLVLHVWAKVEADVAGHGQDILIRLFKSHPETLEKFDR...  "
      ]
     },
     "execution_count": 19,
     "metadata": {},
     "output_type": "execute_result"
    }
   ],
   "source": [
    "# Join two datasets on structureId\n",
    "model_f = protein_char.set_index('structureId').join(protein_seq.set_index('structureId'))\n",
    "model_f.head()"
   ]
  },
  {
   "cell_type": "code",
   "execution_count": 20,
   "id": "15e9e3b0-e79a-463d-9604-65ae0dc3aad8",
   "metadata": {},
   "outputs": [
    {
     "name": "stdout",
     "output_type": "stream",
     "text": [
      "346325 is the number of rows in the joined dataset\n"
     ]
    }
   ],
   "source": [
    "print('%d is the number of rows in the joined dataset' %model_f.shape[0])"
   ]
  },
  {
   "cell_type": "code",
   "execution_count": 21,
   "id": "a379a5a2-d41d-4d51-a017-fed6994d8f32",
   "metadata": {},
   "outputs": [
    {
     "data": {
      "text/plain": [
       "classification        1\n",
       "resolution        16093\n",
       "sequence              3\n",
       "dtype: int64"
      ]
     },
     "execution_count": 21,
     "metadata": {},
     "output_type": "execute_result"
    }
   ],
   "source": [
    "# Check NA counts\n",
    "model_f.isnull().sum()"
   ]
  },
  {
   "cell_type": "code",
   "execution_count": 22,
   "id": "db20b45a-3d97-4774-8514-2bab7835d849",
   "metadata": {},
   "outputs": [
    {
     "name": "stdout",
     "output_type": "stream",
     "text": [
      "         resolution\n",
      "count  99721.000000\n",
      "mean       1.693001\n",
      "std        0.225696\n",
      "min        0.480000\n",
      "25%        1.570000\n",
      "50%        1.750000\n",
      "75%        1.890000\n",
      "max        1.990000\n",
      "99721 is the number of proteins that have a classification and sequence\n"
     ]
    }
   ],
   "source": [
    "# Drop rows with missing values and filtered the protein of resolution less than 2.0 \n",
    "model_f = model_f.dropna()\n",
    "filtered_proteins = model_f[model_f['resolution'] < 2.0]\n",
    "print(filtered_proteins.describe())\n",
    "print('%d is the number of proteins that have a classification and sequence' %filtered_proteins.shape[0])"
   ]
  },
  {
   "cell_type": "markdown",
   "id": "9b7b50d9-a1c4-4803-9ab5-fbc3fe2341e0",
   "metadata": {},
   "source": [
    "With 99721 proteins, it appears that simply removing missing values is acceptable.\n",
    "\n",
    "Lastly, it's important to look at the types of family groups that clasification can be."
   ]
  },
  {
   "cell_type": "code",
   "execution_count": 23,
   "id": "a7dc72e8-285c-4c88-9425-bbb32a69ee53",
   "metadata": {},
   "outputs": [
    {
     "name": "stdout",
     "output_type": "stream",
     "text": [
      "HYDROLASE                                 16978\n",
      "OXIDOREDUCTASE                            12323\n",
      "TRANSFERASE                               10679\n",
      "LYASE                                      4768\n",
      "IMMUNE SYSTEM                              3514\n",
      "                                          ...  \n",
      "RNA BINDING PROTEIN/STRUCTURAL PROTEIN        1\n",
      "Oxioreductase/substrate                       1\n",
      "Structural genomics, transferase              1\n",
      "DNA REPLICATION                               1\n",
      "HYDROLASE (SULFHYDRYL PROTEINASE)             1\n",
      "Name: classification, Length: 1868, dtype: int64\n"
     ]
    },
    {
     "name": "stderr",
     "output_type": "stream",
     "text": [
      "/apps/python/3.10/lib/python3.10/site-packages/seaborn/distributions.py:2619: FutureWarning: `distplot` is a deprecated function and will be removed in a future version. Please adapt your code to use either `displot` (a figure-level function with similar flexibility) or `kdeplot` (an axes-level function for kernel density plots).\n",
      "  warnings.warn(msg, FutureWarning)\n"
     ]
    },
    {
     "data": {
      "image/png": "[encoded data removed]",
      "text/plain": [
       "<Figure size 432x288 with 1 Axes>"
      ]
     },
     "metadata": {
      "needs_background": "light"
     },
     "output_type": "display_data"
    }
   ],
   "source": [
    "# Look at classification type counts\n",
    "counts = filtered_proteins.classification.value_counts()\n",
    "print(counts)\n",
    "\n",
    "#plot counts\n",
    "plt.figure()\n",
    "sns.distplot(counts, hist = False, color = 'purple')\n",
    "plt.title('Count Distribution for Family Types')\n",
    "plt.ylabel('% of records')\n",
    "plt.show()"
   ]
  },
  {
   "cell_type": "code",
   "execution_count": 24,
   "id": "74200ddc-91b8-488d-b4f8-0f2fb1a34786",
   "metadata": {},
   "outputs": [
    {
     "name": "stderr",
     "output_type": "stream",
     "text": [
      "/apps/python/3.10/lib/python3.10/site-packages/seaborn/distributions.py:2619: FutureWarning: `distplot` is a deprecated function and will be removed in a future version. Please adapt your code to use either `displot` (a figure-level function with similar flexibility) or `kdeplot` (an axes-level function for kernel density plots).\n",
      "  warnings.warn(msg, FutureWarning)\n"
     ]
    },
    {
     "data": {
      "image/png": "[encoded data removed]",
      "text/plain": [
       "<Figure size 432x288 with 1 Axes>"
      ]
     },
     "metadata": {
      "needs_background": "light"
     },
     "output_type": "display_data"
    },
    {
     "name": "stdout",
     "output_type": "stream",
     "text": [
      "['HYDROLASE' 'OXIDOREDUCTASE' 'TRANSFERASE' 'LYASE' 'IMMUNE SYSTEM'\n",
      " 'ISOMERASE' 'HYDROLASE/HYDROLASE INHIBITOR' 'TRANSCRIPTION'\n",
      " 'TRANSPORT PROTEIN' 'SUGAR BINDING PROTEIN' 'SIGNALING PROTEIN'\n",
      " 'VIRAL PROTEIN' 'PROTEIN BINDING' 'STRUCTURAL GENOMICS, UNKNOWN FUNCTION'\n",
      " 'UNKNOWN FUNCTION' 'ELECTRON TRANSPORT' 'LIGASE' 'METAL BINDING PROTEIN']\n",
      "69621 is the number of records in the final filtered dataset\n"
     ]
    }
   ],
   "source": [
    "# Get classification types where counts are over 1000\n",
    "types = np.asarray(counts[(counts > 1000)].index)\n",
    "\n",
    "# Filter dataset's records for classification types > 1000\n",
    "data = filtered_proteins[filtered_proteins.classification.isin(types)]\n",
    "\n",
    "# Count occurrences of each classification type\n",
    "classification_counts = data.classification.value_counts()\n",
    "\n",
    "# Plot counts\n",
    "plt.figure()\n",
    "sns.distplot(classification_counts, hist=False, color='purple')\n",
    "plt.title('Count Distribution for Family Types')\n",
    "plt.ylabel('% of records')\n",
    "plt.show()\n",
    "\n",
    "print(types)\n",
    "print('%d is the number of records in the final filtered dataset' % data.shape[0])"
   ]
  },
  {
   "cell_type": "markdown",
   "id": "8a049a53-1392-4ebf-88d3-9c5da89b4b55",
   "metadata": {},
   "source": [
    "## Train Test Split\n",
    "Once the dataset has been filtered, the data should be split into training and testing sets. To extract features from the training dataset, the CountVectorizer should be employed to create a dictionary. This involves extracting individual characters or subsets of characters. It is important to note that the ngram_range needs to be specified appropriately.\n",
    "\n",
    "In proteins, identification of their purpose is not based solely on the individual amino acids. Rather, it is the result of the secondary and tertiary structures formed by the amino acid sequence's bonds. Moreover, different parts of the chain can be more acidic or basic. Therefore, it is crucial to use features that are larger than a single unit. Setting an ngram_range of (4,4) appears to be a reasonable choice for feature extraction. This will extract different subsets of length 4, allowing the amino acids to use their neighbors to aid in classification."
   ]
  },
  {
   "cell_type": "code",
   "execution_count": 25,
   "id": "879c8765-ee03-4532-981f-e5ea65de1235",
   "metadata": {},
   "outputs": [
    {
     "name": "stdout",
     "output_type": "stream",
     "text": [
      "['yyy ' 'yyya' 'yyyd' 'yyye' 'yyyf' 'yyyg' 'yyyh' 'yyyi' 'yyyk' 'yyyl'\n",
      " 'yyym' 'yyyn' 'yyyp' 'yyyq' 'yyyr' 'yyys' 'yyyt' 'yyyv' 'yyyy' 'zhhh']\n"
     ]
    }
   ],
   "source": [
    "from sklearn.model_selection import train_test_split\n",
    "\n",
    "# Split data into training and testing sets\n",
    "X_train, X_test, y_train, y_test = train_test_split(data['sequence'], data['classification'], test_size=0.2, random_state=1)\n",
    "\n",
    "# Filter based on resolution\n",
    "train_res = data[data['sequence'].isin(X_train)]\n",
    "test_res = data[data['sequence'].isin(X_test)]\n",
    "train_res = train_res[train_res['resolution'].between(0, 2)]\n",
    "test_res = test_res[test_res['resolution'].between(0, 2)]\n",
    "\n",
    "# Filter based on classification types\n",
    "types = np.asarray(data['classification'].value_counts()[data['classification'].value_counts() > 1000].index)\n",
    "train_res = train_res[train_res['classification'].isin(types)]\n",
    "test_res = test_res[test_res['classification'].isin(types)]\n",
    "\n",
    "# Create CountVectorizer to extract features from sequences\n",
    "from sklearn.feature_extraction.text import CountVectorizer\n",
    "\n",
    "vect = CountVectorizer(analyzer='char_wb', ngram_range=(4,4))\n",
    "\n",
    "# Fit and transform CountVectorizer on training data\n",
    "vect.fit(train_res['sequence'])\n",
    "X_train_df = vect.transform(train_res['sequence'])\n",
    "X_test_df = vect.transform(test_res['sequence'])\n",
    "\n",
    "print(vect.get_feature_names_out()[-20:])"
   ]
  },
  {
   "cell_type": "markdown",
   "id": "20cbfede-d598-49a4-bac9-ea5be1d4251c",
   "metadata": {},
   "source": [
    "## Machine Learning Models\n",
    "Once the features have been extracted, the next step is to use machine learning models. Naive Bayes is a traditional approach that works well for count vectorized features. Additionally, Adaboost will be utilized for comparison purposes."
   ]
  },
  {
   "cell_type": "code",
   "execution_count": 26,
   "id": "aa2555e2-8aba-4b51-90e3-2378d295449a",
   "metadata": {},
   "outputs": [
    {
     "name": "stdout",
     "output_type": "stream",
     "text": [
      "Accuracy of MultinomialNB model: 0.9036279590979128\n"
     ]
    }
   ],
   "source": [
    "# Naive Bayes Model\n",
    "from sklearn.naive_bayes import MultinomialNB\n",
    "\n",
    "model = MultinomialNB()\n",
    "model.fit(X_train_df, train_res['classification'])\n",
    "NB_pred = model.predict(X_test_df)\n",
    "accuracy = accuracy_score(test_res['classification'], NB_pred)\n",
    "print(\"Accuracy of MultinomialNB model:\", accuracy)"
   ]
  },
  {
   "cell_type": "markdown",
   "id": "6e057d5a-cc17-4289-9db1-66bb32eb1473",
   "metadata": {},
   "source": [
    "## Visualize Metrics\n",
    "It appears that Naive Bayes outperforms Adaboost in classification. To identify areas where the Naive Bayes model performs poorly, a confusion matrix visualization and classification report can be useful."
   ]
  },
  {
   "cell_type": "code",
   "execution_count": 27,
   "id": "9141d368-705d-4c3b-8c55-e917fe71c6a0",
   "metadata": {},
   "outputs": [
    {
     "data": {
      "image/png": "[encoded data removed]",
      "text/plain": [
       "<Figure size 720x576 with 2 Axes>"
      ]
     },
     "metadata": {
      "needs_background": "light"
     },
     "output_type": "display_data"
    }
   ],
   "source": [
    "from sklearn.metrics import confusion_matrix\n",
    "import seaborn as sns\n",
    "import matplotlib.pyplot as plt\n",
    "\n",
    "types = np.unique(train_res['classification'])\n",
    "conf_mat = confusion_matrix(test_res['classification'], NB_pred, labels=types)\n",
    "conf_mat = conf_mat.astype('float') / conf_mat.sum(axis=1)[:, np.newaxis]\n",
    "fig, ax = plt.subplots(figsize=(10, 8))\n",
    "sns.heatmap(conf_mat, annot=True, cmap='Blues', xticklabels=types, yticklabels=types)\n",
    "plt.ylabel('Actual')\n",
    "plt.xlabel('Predicted')\n",
    "plt.title(\"Confusion Matrix for Naive Bayes Model\")\n",
    "plt.show()"
   ]
  },
  {
   "cell_type": "code",
   "execution_count": 28,
   "id": "b5ca695a-e909-49bf-930a-45be17d6deaf",
   "metadata": {},
   "outputs": [
    {
     "name": "stdout",
     "output_type": "stream",
     "text": [
      "42834 42834\n",
      "                                       precision    recall  f1-score   support\n",
      "\n",
      "                   ELECTRON TRANSPORT       0.87      0.93      0.90       597\n",
      "                            HYDROLASE       0.95      0.80      0.87     10280\n",
      "        HYDROLASE/HYDROLASE INHIBITOR       0.51      0.89      0.65      1741\n",
      "                        IMMUNE SYSTEM       0.98      0.92      0.95      1674\n",
      "                            ISOMERASE       0.95      0.96      0.95      1806\n",
      "                               LIGASE       0.96      0.87      0.91       588\n",
      "                                LYASE       0.96      0.96      0.96      3219\n",
      "                METAL BINDING PROTEIN       0.79      0.88      0.83       648\n",
      "                       OXIDOREDUCTASE       0.99      0.96      0.97      8442\n",
      "                      PROTEIN BINDING       0.65      0.82      0.73       645\n",
      "                    SIGNALING PROTEIN       0.82      0.78      0.80       867\n",
      "STRUCTURAL GENOMICS, UNKNOWN FUNCTION       0.70      0.91      0.79       573\n",
      "                SUGAR BINDING PROTEIN       0.95      0.97      0.96      1235\n",
      "                        TRANSCRIPTION       0.89      0.94      0.91      1381\n",
      "                          TRANSFERASE       0.93      0.96      0.95      6462\n",
      "                    TRANSPORT PROTEIN       0.90      0.92      0.91      1161\n",
      "                     UNKNOWN FUNCTION       0.83      0.91      0.87       598\n",
      "                        VIRAL PROTEIN       0.95      0.95      0.95       917\n",
      "\n",
      "                             accuracy                           0.90     42834\n",
      "                            macro avg       0.87      0.91      0.88     42834\n",
      "                         weighted avg       0.92      0.90      0.91     42834\n",
      "\n"
     ]
    }
   ],
   "source": [
    "#Print F1 score metrics\n",
    "from sklearn.metrics import classification_report\n",
    "\n",
    "print(len(test_res['classification']), X_test_df.shape[0])\n",
    "print(classification_report(test_res['classification'], NB_pred, target_names=types))"
   ]
  },
  {
   "cell_type": "code",
   "execution_count": 31,
   "id": "78374aa1-1de6-4f31-bddf-b04e31239065",
   "metadata": {},
   "outputs": [
    {
     "name": "stdout",
     "output_type": "stream",
     "text": [
      "Predicted classification: HYDROLASE\n"
     ]
    }
   ],
   "source": [
    "# Example input sequence and resolution values\n",
    "input_sequence = \"MGLNQEFPQGIDLTVGSSFQYGDMSGGDIFDFTVGHSSTTAQLNYQRDLRTVWTEARPADTFRFAKFDKLYLNLKKDPDQFKFPQVAATGDGWTREQTFTADTTSFHDYRGSQYGEQVYVLVTTKTVLKTGPAVVAIQNIDEVDFTVDEDGGARVLHVTGTMVTPSVSSYGIDLDMDFKRYALPDGTKPVVHPDTVDALVRNHARGTAIVGMVGGMQFTNIHACVGGGLLDLGKHAFANLAAVDKVVDGTTSTPGNAAFLQGLPAGSTGNLLLDQQIATGKKFGDQFGVPFVDRYFNELNKWKGAVLALPGSDPEMTKRNYLLSVTAAKLGSPVIRRLTGLTLPDAVQQESGYDGYGQVITIGNKTVQRLTPEFLSALESSEVGPIASVDEALSSYGLYQSWVYQTGGQDSRVVSAPVLQPEPYLNPDSDFAFEKGGSSVGLIPLWNSLKVPYLSYGFYSGVTRGKLSEFDKARVKTALGKSVQPIVSWDQGSVTQTYQEDDLYNTY\"\n",
    "input_resolution = 1.5\n",
    "\n",
    "# Process the input sequence and resolution\n",
    "input_data = pd.DataFrame({'sequence': [input_sequence], 'resolution': [input_resolution]})\n",
    "input_data = input_data[input_data['resolution'].between(0, 2)]\n",
    "input_seq = vect.transform(input_data['sequence'])\n",
    "\n",
    "# Make predictions using the trained model\n",
    "NB_pred = model.predict(input_seq)\n",
    "\n",
    "# Output the predicted classification\n",
    "print(\"Predicted classification:\", NB_pred[0])\n"
   ]
  },
  {
   "cell_type": "markdown",
   "id": "18048c67-db3e-414d-bdb8-a08d87ec59c6",
   "metadata": {},
   "source": [
    "## Reasons for Model Error\n",
    "Proteins in general can be a type of enzyme, or a signaling protein, structural, and various other choices. A lof of proteins tend to share very similar characteristics, as some proteins are meant to bind in similar regions as others. For example, a Hydrolase enzyme and a Hydrolase inhibitor protein are going to have similar structures as they will target very similar areas. This is reflected in the confusion matrix and heat map. Gene regulator proteins will have a similarity to RNA binding proteins, DNA binding proteins, as well as transcription proteins. The biggest thing to note as well, as the model only uses features of 4 amino acids at most. The possibility of utilizing amino acids of higher degree in theory should be able to create an even higher accuracy.\n",
    "\n",
    "## Future Work\n",
    "There is definitely room for improvement for the model. Utilizing factors such as pH, molecular weight, and other components may be able to yield more information on family group. Furthermore, if possible, increase the length of the ngram_range to include more than just 4 characters to allow for higher interaction between the amino acids as reflected in reality"
   ]
  },
  {
   "cell_type": "code",
   "execution_count": null,
   "id": "09e4ce77-4c48-4634-ac4b-485ca42fac23",
   "metadata": {},
   "outputs": [],
   "source": []
  }
 ],
 "metadata": {
  "kernelspec": {
   "display_name": "UFRC Python-3.10",
   "language": "python",
   "name": "python3-3.10-ufrc"
  },
  "language_info": {
   "codemirror_mode": {
    "name": "ipython",
    "version": 3
   },
   "file_extension": ".py",
   "mimetype": "text/x-python",
   "name": "python",
   "nbconvert_exporter": "python",
   "pygments_lexer": "ipython3",
   "version": "3.10.5"
  }
 },
 "nbformat": 4,
 "nbformat_minor": 5
}
